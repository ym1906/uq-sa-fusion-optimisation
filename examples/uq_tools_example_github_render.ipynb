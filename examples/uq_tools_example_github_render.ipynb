{
 "cells": [
  {
   "cell_type": "markdown",
   "metadata": {},
   "source": [
    "# Demonstration of UQ tool suite\n",
    "\n",
    "These tools have been developed to analyse the output of PROCESS Monte Carlo runs, but can analyse data from any software and source if it can be presented in a np.DataFrame format.\n",
    "\n",
    "There is a suite of tools design to perform sensitivity analyses (SA), uncertainty quantification (UQ)\n",
    "\n",
    "In this example use-cases will be demonstrated.\n",
    "\n"
   ]
  },
  {
   "cell_type": "markdown",
   "metadata": {},
   "source": [
    "## Step 1: Initialise and load in data using UncertaintyData"
   ]
  },
  {
   "cell_type": "code",
   "execution_count": null,
   "metadata": {},
   "outputs": [],
   "source": [
    "# %load_ext autoreload\n",
    "# %autoreload 1\n",
    "from bokeh.plotting import show\n",
    "import sys\n",
    "from bokeh.io import output_notebook\n",
    "output_notebook()\n",
    "import sys\n",
    "sys.path.append('/home/graeme/process_uq/uq_tools')"
   ]
  },
  {
   "cell_type": "markdown",
   "metadata": {},
   "source": [
    "### UncertaintyData\n",
    "\n",
    "This is a data processing class which can perform SA.\n",
    "You need to specify the names of your model inputs"
   ]
  },
  {
   "cell_type": "code",
   "execution_count": null,
   "metadata": {},
   "outputs": [],
   "source": [
    "from uncertainty_data import UncertaintyData # Import the class\n",
    "# Declare the parameters you sampled.\n",
    "input_names = [\n",
    "            \"coreradius\",\n",
    "            \"ralpne\",\n",
    "            \"psepbqarmax\",\n",
    "            \"tbrnmn\",\n",
    "            \"etaech\",\n",
    "            \"pinjalw\",\n",
    "            \"triang\",\n",
    "            \"alstroh\",\n",
    "            \"sig_tf_case_max\",\n",
    "            \"walalw\",\n",
    "            \"sig_tf_wp_max\",\n",
    "            \"aspect\",\n",
    "            \"etath\",\n",
    "            \"n_cycle_min\"\n",
    "        ]\n",
    "# Create and instance of the UncertaintyData class.\n",
    "demo_1_uq_data = UncertaintyData(path_to_uq_data_folder=\"/home/graeme/easyVVUQ-process/demo_runs_2/run1/\", sampled_variables = input_names)\n",
    "demo_1_uq_data.initialize_data() # Run data processing commands.\n",
    "demo_1_uq_data.set_image_export_path(\"/home/graeme/graphs\")"
   ]
  },
  {
   "cell_type": "markdown",
   "metadata": {},
   "source": [
    "## Investigate PROCESS Probability of Failure\n",
    "Calculate the ratio of PROCESS solutions."
   ]
  },
  {
   "cell_type": "code",
   "execution_count": null,
   "metadata": {},
   "outputs": [],
   "source": [
    "demo_1_uq_data.calculate_failure_probability()\n",
    "print(\"Failure probability: \", demo_1_uq_data.failure_probability, \"+/- \", demo_1_uq_data.failure_cov)"
   ]
  },
  {
   "cell_type": "markdown",
   "metadata": {},
   "source": [
    "### Perform Regional Sensitivity Analysis\n",
    "This looks for variables which cause convergence, caclulates a relative index for the most significance. "
   ]
  },
  {
   "cell_type": "code",
   "execution_count": null,
   "metadata": {},
   "outputs": [],
   "source": [
    "variable_names, indices = demo_1_uq_data.convergence_regional_sensitivity_analysis(demo_1_uq_data.sampled_variables)\n",
    "demo_1_uq_data.plot_sensitivity(indices=indices, names=variable_names, export_image=True,significance_level=0.05, title=\"Input Parameters Influencing Convergence\")"
   ]
  },
  {
   "cell_type": "markdown",
   "metadata": {},
   "source": [
    "![alt text](<plots/Input Parameters Influencing Convergence_plot.png>)"
   ]
  },
  {
   "cell_type": "markdown",
   "metadata": {},
   "source": [
    "### Calculate sensitivity for a given figure of merit\n",
    "In this case, find the sensitivity towards the major radius, \"rmajor\". \n",
    "\n",
    "Uses rbd_fast method from Salib library. Higher number means more sensitivity.\n",
    "\n",
    "Then filter for sensitivity above a given number."
   ]
  },
  {
   "cell_type": "code",
   "execution_count": null,
   "metadata": {},
   "outputs": [],
   "source": [
    "variable_names, indices, index_err = demo_1_uq_data.calculate_sensitivity(figure_of_merit=\"rmajor\", sampled_variables=input_names)\n",
    "demo_1_uq_data.plot_sensitivity(indices=indices,names=variable_names,title=\"Sobol Indices for Major Radius\",export_image=True)\n",
    "demo_1_uq_data.find_significant_parameters(sensitivity_data=demo_1_uq_data.sensitivity_df, significance_level=0.2)"
   ]
  },
  {
   "cell_type": "markdown",
   "metadata": {},
   "source": [
    "![alt text](<plots/Sobol Indices for Major Radius_plot.png>)"
   ]
  },
  {
   "cell_type": "code",
   "execution_count": null,
   "metadata": {},
   "outputs": [],
   "source": [
    "# demo_1_uq_data.plot_sobol_indices(figure_of_merit=\"Major Radius (m)\")\n",
    "significant_rmajor_variables=demo_1_uq_data.find_significant_parameters(sensitivity_data=demo_1_uq_data.sensitivity_df,significance_level=0.1)\n",
    "significant_rmajor_variables.append(\"rmajor\")"
   ]
  },
  {
   "cell_type": "markdown",
   "metadata": {},
   "source": [
    "## Create a scatter plot of the results\n",
    "\n",
    "- This creates a histogram color map of converged solutions (hist=True) and a scatter plot (scatter=True). \n",
    "- This can be used for visual identification of relationships, if there is a linear slant to the data it indicates a relationship exists\n",
    "- Red on the color map indicates that more points fall in this region.\n",
    "- You can plot an individual graph with \"scatter\" and a grid of scatter plots with \"scatter_grid\"."
   ]
  },
  {
   "cell_type": "code",
   "execution_count": null,
   "metadata": {},
   "outputs": [],
   "source": [
    "demo_1_uq_data.scatter(data=demo_1_uq_data.converged_df,x_variable=\"tbrnmn\",y_variable=\"rmajor\",scatter=True, hist=True, bins=5)\n",
    "demo_1_uq_data.scatter_grid(data=demo_1_uq_data.converged_df,variables=significant_rmajor_variables, bins=5, scatter=True, hist=False, height_width=200, export_image=False)"
   ]
  },
  {
   "cell_type": "markdown",
   "metadata": {},
   "source": [
    "![alt text](plots/tbrnmnrmajor-plot.png)\n",
    "\n",
    "![alt text](plots/scatter_gird.png)"
   ]
  },
  {
   "cell_type": "markdown",
   "metadata": {},
   "source": [
    "## Create CDF plots\n",
    "Plot the CDF of converged and unconverged samples, as well as the convergence rate for a given sampled parameter.\n",
    "\n",
    "If there is a difference between the red and blue lines, this indicates that converged runs are coming from a different selection of input parameters to unconverged solutions (ie the figure of merit is sensitive to convergence).\n",
    "\n",
    "As an example, compare the aspect ratio to the number of cycles in the CS coil."
   ]
  },
  {
   "cell_type": "code",
   "execution_count": null,
   "metadata": {},
   "outputs": [],
   "source": [
    "demo_1_uq_data.ecdf_plot(\"aspect\")\n",
    "demo_1_uq_data.ecdf_plot(\"n_cycle_min\")"
   ]
  },
  {
   "cell_type": "markdown",
   "metadata": {},
   "source": [
    "![alt text](plots/aspect-ecdf-plot.png)"
   ]
  },
  {
   "cell_type": "markdown",
   "metadata": {},
   "source": [
    "## Regional Sensitivity Analysis \n",
    "\n",
    "We can investigate regional relationships between variables. For example, when the major radius is small, different things may be compromised to achieve a solution when then the major radius is large.\n",
    "\n",
    "In this example, to achieve a high burn time the major radius must change from the typical size required for a lower burn time."
   ]
  },
  {
   "cell_type": "code",
   "execution_count": null,
   "metadata": {},
   "outputs": [],
   "source": [
    "rsa_df = demo_1_uq_data.regional_sensitivity_analysis(figure_of_merit=\"tbrnmn\", variables_to_sample=[\"aspect\",\"rmajor\",\"triang\"],dataframe=demo_1_uq_data.converged_df,bins=10,confidence_level=0.1)"
   ]
  },
  {
   "cell_type": "markdown",
   "metadata": {},
   "source": [
    "![alt text](plots/tbrnmn-rsa-plot.png)"
   ]
  }
 ],
 "metadata": {
  "kernelspec": {
   "display_name": "env",
   "language": "python",
   "name": "python3"
  },
  "language_info": {
   "codemirror_mode": {
    "name": "ipython",
    "version": 3
   },
   "file_extension": ".py",
   "mimetype": "text/x-python",
   "name": "python",
   "nbconvert_exporter": "python",
   "pygments_lexer": "ipython3",
   "version": "3.10.12"
  },
  "orig_nbformat": 4
 },
 "nbformat": 4,
 "nbformat_minor": 2
}
