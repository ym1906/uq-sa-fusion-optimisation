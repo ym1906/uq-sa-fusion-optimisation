{
 "cells": [
  {
   "cell_type": "markdown",
   "metadata": {},
   "source": [
    "# Demonstration of UQ tool suite\n",
    "\n",
    "These tools have been developed to analyse the output of PROCESS Monte Carlo runs, but can analyse data from any software and source if it can be presented in a np.DataFrame format.\n",
    "\n",
    "There is a suite of tools design to perform sensitivity analyses (SA), uncertainty quantification (UQ)\n",
    "\n",
    "In this example use-cases will be demonstrated.\n",
    "\n"
   ]
  },
  {
   "cell_type": "markdown",
   "metadata": {},
   "source": [
    "## Step 1: Initialise and load in data using UncertaintyData"
   ]
  },
  {
   "cell_type": "code",
   "execution_count": null,
   "metadata": {},
   "outputs": [],
   "source": [
    "# %load_ext autoreload\n",
    "# %autoreload 1\n",
    "from pathlib import Path\n",
    "from bokeh.plotting import show\n",
    "import sys\n",
    "import pandas as pd\n",
    "from bokeh.io import output_notebook\n",
    "output_notebook()"
   ]
  },
  {
   "cell_type": "markdown",
   "metadata": {},
   "source": [
    "### UncertaintyData\n",
    "\n",
    "This is a data processing class which can perform SA.\n",
    "You need to specify the names of your model inputs"
   ]
  },
  {
   "cell_type": "code",
   "execution_count": 4,
   "metadata": {},
   "outputs": [],
   "source": [
    "from uncertainty_data import UncertaintyData\n",
    "input_names = [\n",
    "            \"coreradius\",\n",
    "            \"ralpne\",\n",
    "            \"psepbqarmax\",\n",
    "            \"tbrnmn\",\n",
    "            \"etaech\",\n",
    "            \"pinjalw\",\n",
    "            \"triang\",\n",
    "            \"alstroh\",\n",
    "            \"sig_tf_case_max\",\n",
    "            \"walalw\",\n",
    "            \"sig_tf_wp_max\",\n",
    "            \"aspect\",\n",
    "            \"etath\",\n",
    "            \"n_cycle_min\"\n",
    "        ]\n",
    "demo_1_uq_data = UncertaintyData(path_to_uq_data_folder=\"/home/graeme/easyVVUQ-process/demo_runs_2/run1/\", input_parameters = input_names)\n",
    "demo_1_uq_data.calculate_sensitivity(figure_of_merit=\"rmajor\")\n",
    "demo_1_uq_data.calculate_failure_probability()"
   ]
  }
 ],
 "metadata": {
  "kernelspec": {
   "display_name": "env",
   "language": "python",
   "name": "python3"
  },
  "language_info": {
   "codemirror_mode": {
    "name": "ipython",
    "version": 3
   },
   "file_extension": ".py",
   "mimetype": "text/x-python",
   "name": "python",
   "nbconvert_exporter": "python",
   "pygments_lexer": "ipython3",
   "version": "3.10.12"
  },
  "orig_nbformat": 4
 },
 "nbformat": 4,
 "nbformat_minor": 2
}
