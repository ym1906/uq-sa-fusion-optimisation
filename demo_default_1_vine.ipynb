{
 "cells": [
  {
   "attachments": {},
   "cell_type": "markdown",
   "metadata": {},
   "source": [
    "# Analysis of UQ runs - DEMO 2016 initial uncertainties VINE\n",
    "\n",
    "\n",
    "## Results summary\n",
    "\n",
    "|   | aspect | tbrnmn   | etath   | ralpne   |\n",
    "|---|--------|----------|---------|----------|\n",
    "| Design point | 3.32   | 17542.19 | 0.37    | 0.06857  |\n",
    "| Optimised point | 2.83   | 15293.11 | 0.39    | 0.07316  |\n",
    "| Delta | -0.49  | -2249.07 | 0.01863 | 0.00459 |"
   ]
  },
  {
   "attachments": {},
   "cell_type": "markdown",
   "metadata": {},
   "source": [
    "## Import the Uncertainty Data and create object"
   ]
  },
  {
   "attachments": {},
   "cell_type": "markdown",
   "metadata": {},
   "source": [
    "## Calculate Sensitivity Indices and Reliability"
   ]
  },
  {
   "cell_type": "code",
   "execution_count": null,
   "metadata": {},
   "outputs": [],
   "source": [
    "%load_ext autoreload\n",
    "%autoreload 1\n",
    "from pathlib import Path\n",
    "from bokeh.plotting import figure, show\n",
    "import sys\n",
    "import pandas as pd\n",
    "sys.path.append('/home/graeme/process_uq/')\n",
    "sys.path.append('/home/graeme/PROCESS_SALib/')\n",
    "from uq_analysis import UncertaintyData, Copula, ConfidenceAnalysis\n",
    "# from bokeh.plotting import figure \n",
    "from bokeh.io import output_notebook\n",
    "output_notebook()\n",
    "proj_dir = str(Path.cwd())+\"/\"\n",
    "proj_dir = \"/home/graeme/easyVVUQ-process/demo_analysis/\"\n",
    "figure_of_merit = \"rmajor\"\n",
    "input_names = [\n",
    "            \"coreradius\",\n",
    "            \"ralpne\",\n",
    "            \"psepbqarmax\",\n",
    "            \"tbrnmn\",\n",
    "            \"etaech\",\n",
    "            \"pinjalw\",\n",
    "            \"triang\",\n",
    "            \"alstroh\",\n",
    "            \"sig_tf_case_max\",\n",
    "            \"walalw\",\n",
    "            \"sig_tf_wp_max\",\n",
    "            \"aspect\",\n",
    "            \"etath\"\n",
    "        ]\n",
    "uq_data = UncertaintyData(proj_dir, figure_of_merit, input_parameters = input_names, use_scoping_data=False)\n",
    "\n"
   ]
  },
  {
   "cell_type": "code",
   "execution_count": null,
   "metadata": {},
   "outputs": [],
   "source": [
    "uq_data.calculate_sensitivity(figure_of_merit)\n",
    "uq_data.calculate_failure_probability()\n",
    "print(\"Number of samples: \", len(uq_data.uncertainties_df))\n",
    "print(\"Number of converged runs: \",uq_data.number_of_converged_runs,)\n",
    "print(\"Failure Rate: \", uq_data.failure_probability,\"+/-\", uq_data.failure_cov)\n"
   ]
  },
  {
   "cell_type": "code",
   "execution_count": null,
   "metadata": {},
   "outputs": [],
   "source": [
    "itv=[\n",
    "            \"bt\",\n",
    "            \"te\",\n",
    "            \"beta\",\n",
    "            \"dene\",\n",
    "            \"tfcth\",\n",
    "            \"wallmw\",\n",
    "            \"ohcth\",\n",
    "            \"bigq\",\n",
    "            \"bore\",\n",
    "            \"betalim\",\n",
    "            \"coheof\",\n",
    "            \"cohbop\",\n",
    "            \"fvsbrnni\",\n",
    "            # \"itvar019\",\n",
    "            # \"itvar020\",\n",
    "            \"jwptf\",\n",
    "            # \"vtfskv\",\n",
    "            # \"vdalw\",\n",
    "            \"tdmptf\",\n",
    "            \"thkcas\",\n",
    "            # \"thwcndut\",\n",
    "            \"fcutfsu\",\n",
    "             \"cpttf\",\n",
    "            \"plhthresh\",\n",
    "            \"tmargtf\",\n",
    "            \"tmargoh\",\n",
    "            \"oh_steel_frac\",\n",
    "            \"pdivt\",\n",
    "            \"powfmw\",\n",
    "            \"rmajor\",]"
   ]
  },
  {
   "attachments": {},
   "cell_type": "markdown",
   "metadata": {},
   "source": [
    "## Regional Sensitivity - what causes PROCESS to converge?"
   ]
  },
  {
   "cell_type": "code",
   "execution_count": null,
   "metadata": {},
   "outputs": [],
   "source": [
    "uq_data.convergence_regional_sensitivity_analysis(uq_data.input_names)\n",
    "uq_data.plot_sumsq_sensitivity()\n",
    "significant_conv_vars = uq_data.find_significant_parameters(uq_data.sumsq_sensitivity_df,\"unconverged\",0.0).tolist()\n",
    "print(significant_conv_vars)"
   ]
  },
  {
   "cell_type": "markdown",
   "metadata": {},
   "source": [
    "\"aspect\" = aspect ratio\n",
    "\n",
    "\"tbrnmn\" = minimum required burn time\n",
    "\n",
    "\"etath\" = electric to thermal conversion efficiency\n",
    "\n",
    "\"ralpne\" = thermal alpha/electron density."
   ]
  },
  {
   "cell_type": "markdown",
   "metadata": {},
   "source": [
    "## Find the iteration variables which are influential for the significant convergence variables"
   ]
  },
  {
   "cell_type": "code",
   "execution_count": null,
   "metadata": {},
   "outputs": [],
   "source": [
    "copula = Copula(uq_data.converged_df,significant_conv_vars+[\"powfmw\",\"rmajor\"],copula_type=\"unbounded\")\n",
    "copula.calculate_copula(synthetic_sample_size=200)\n",
    "copula.copula_data_dict()\n",
    "print(copula.copula_dict)\n",
    "copula.plot_correlation_matrix(copula.copula_dict[\"correlation\"])\n",
    "copula.copula.tau_mat\n",
    "correlation_df = pd.DataFrame(copula.copula.tau_mat,columns=significant_conv_vars+[\"rmajor\"],index=significant_conv_vars+[\"rmajor\"])"
   ]
  },
  {
   "cell_type": "code",
   "execution_count": null,
   "metadata": {},
   "outputs": [],
   "source": [
    "model_parameters = significant_conv_vars\n",
    "vcopula = Copula(uq_data.converged_df,model_parameters,copula_type=\"vine\")\n",
    "vcopula.calculate_copula(synthetic_sample_size=500)\n",
    "vcopula.copula.tau_mat\n",
    "correlation_df = pd.DataFrame(vcopula.copula.tau_mat,columns=model_parameters,index=model_parameters)"
   ]
  },
  {
   "cell_type": "code",
   "execution_count": null,
   "metadata": {},
   "outputs": [],
   "source": [
    "vcopula.plot_correlation_matrix(correlation_df)"
   ]
  },
  {
   "cell_type": "code",
   "execution_count": null,
   "metadata": {},
   "outputs": [],
   "source": [
    "custom_data = {\"coreradius\":0.8}#,\"tbrnmn\":10000,\"ralpne\":0.06}\n",
    "vconv_copula_analysis=ConfidenceAnalysis(uq_data,vcopula, weight_confidence=1.0,weight_overlap=0.1, num_intervals=10)#,custom_data_point=custom_data)\n",
    "show(vconv_copula_analysis.create_graph_grid(significant_conv_vars))\n",
    "show(vconv_copula_analysis.create_datatable(significant_conv_vars))"
   ]
  },
  {
   "cell_type": "code",
   "execution_count": null,
   "metadata": {},
   "outputs": [],
   "source": [
    "vconv_copula_analysis.plot_network(vconv_copula_analysis.correlation_network(correlation_df,threshold=0.5))"
   ]
  }
 ],
 "metadata": {
  "kernelspec": {
   "display_name": "env",
   "language": "python",
   "name": "python3"
  },
  "language_info": {
   "codemirror_mode": {
    "name": "ipython",
    "version": 3
   },
   "file_extension": ".py",
   "mimetype": "text/x-python",
   "name": "python",
   "nbconvert_exporter": "python",
   "pygments_lexer": "ipython3",
   "version": "3.10.12"
  },
  "orig_nbformat": 4
 },
 "nbformat": 4,
 "nbformat_minor": 2
}
