{
 "cells": [
  {
   "attachments": {},
   "cell_type": "markdown",
   "metadata": {},
   "source": [
    "# Analysis of UQ runs\n",
    "These notebooks will be used to plot data and data analysis for UQ runs for SOFE 2023.\n"
   ]
  },
  {
   "attachments": {},
   "cell_type": "markdown",
   "metadata": {},
   "source": [
    "## Run information\n",
    "\n",
    "- baseline 2018\n",
    "- pnetel is 400.\n",
    "- Fixed rmajor to 9.0, the average of a previous uq run.\n",
    "- Maximise Net Electric\n",
    "- pheat turned on\n",
    "- UQ bounds ~10%"
   ]
  },
  {
   "attachments": {},
   "cell_type": "markdown",
   "metadata": {},
   "source": [
    "## Import the Uncertainty Data and create object"
   ]
  },
  {
   "attachments": {},
   "cell_type": "markdown",
   "metadata": {},
   "source": [
    "## Calculate Sensitivity Indices and Reliability"
   ]
  },
  {
   "cell_type": "code",
   "execution_count": null,
   "metadata": {},
   "outputs": [],
   "source": [
    "%load_ext autoreload\n",
    "%autoreload 1\n",
    "from pathlib import Path\n",
    "import sys\n",
    "sys.path.append('/home/graeme/process_uq/')\n",
    "sys.path.append('/home/graeme/PROCESS_SALib/')\n",
    "from uq_analysis import UncertaintyData, Copula, InteractivePlot\n",
    "# from bokeh.plotting import figure \n",
    "from bokeh.io import output_notebook\n",
    "output_notebook()\n",
    "\n",
    "proj_dir = str(Path.cwd())+\"/\"\n",
    "proj_dir = \"/home/graeme/data/uq_run_data/uq_tool_analysis/flat_dist_runs/\"\n",
    "figure_of_merit = \"powfmw\"\n",
    "uq_data = UncertaintyData(proj_dir, figure_of_merit)\n",
    "print(\"number of converged samples:\",len(uq_data.converged_df))\n",
    "\n"
   ]
  },
  {
   "cell_type": "code",
   "execution_count": null,
   "metadata": {},
   "outputs": [],
   "source": [
    "uq_data.calculate_sensitivity(figure_of_merit)\n",
    "uq_data.calculate_reliability()\n",
    "# print(\"rmajor mean: \", round(uq_data.converged_df[\"rmajor\"].mean(),2))\n",
    "print(\"Number of samples: \", len(uq_data.uncertainties_df))\n",
    "print(\n",
    "    \"Number of converged runs: \",\n",
    "    uq_data.number_of_converged_runs,\n",
    ")\n",
    "print(\"Reliability: \", uq_data.reliability_index)\n"
   ]
  },
  {
   "attachments": {},
   "cell_type": "markdown",
   "metadata": {},
   "source": [
    "## Regional Sensitivity - what causes PROCESS to converge?"
   ]
  },
  {
   "cell_type": "code",
   "execution_count": null,
   "metadata": {},
   "outputs": [],
   "source": [
    "uq_data.convergence_regional_sensitivity_analysis(uq_data.input_names)\n",
    "uq_data.plot_sumsq_sensitivity()\n",
    "significant_conv_vars = uq_data.find_significant_parameters(uq_data.sumsq_sensitivity_df,\"unconverged\",0.10).tolist()\n",
    "print(significant_conv_vars)"
   ]
  },
  {
   "cell_type": "markdown",
   "metadata": {},
   "source": [
    "## Find the iteration variables which are influential for the significant convergence variables"
   ]
  },
  {
   "cell_type": "code",
   "execution_count": null,
   "metadata": {},
   "outputs": [],
   "source": [
    "rsa_variables = uq_data.itv\n",
    "significant_itv_list = []\n",
    "for item in significant_conv_vars:\n",
    "    rsa_df = uq_data.regional_sensitivity_analysis(figure_of_merit=item,variables_to_sample=rsa_variables, dataframe=uq_data.converged_df, bins=10, confidence_level = 0.30)\n",
    "    significant_itv_list.extend(rsa_df.index.tolist())\n",
    "significant_itv_list = list(dict.fromkeys(significant_itv_list))\n",
    "print(\"These iteration values drive performance recovery:\", significant_itv_list)"
   ]
  },
  {
   "cell_type": "markdown",
   "metadata": {},
   "source": [
    "## Create a copula based on the important variables for convergence and iteration variables"
   ]
  },
  {
   "cell_type": "code",
   "execution_count": null,
   "metadata": {},
   "outputs": [],
   "source": [
    "copula = Copula(uq_data.converged_df, significant_conv_vars)\n",
    "copula.calculate_copula(input_sample_size=500,synthetic_sample_size=100000)\n",
    "copula.calculate_pdf()\n",
    "pdf_df=copula.create_pdf_df()\n",
    "copula.find_max_pdf(print_data=False)\n"
   ]
  },
  {
   "cell_type": "code",
   "execution_count": null,
   "metadata": {},
   "outputs": [],
   "source": [
    "itv_vars = significant_conv_vars + significant_itv_list\n",
    "print(significant_itv_list)\n",
    "itv_copula = Copula(uq_data.converged_df,itv_vars)\n",
    "itv_copula.calculate_copula(input_sample_size=500,synthetic_sample_size=100000)\n",
    "itv_copula.calculate_pdf()\n",
    "itv_pdf_df=itv_copula.create_pdf_df()\n",
    "\n"
   ]
  },
  {
   "cell_type": "code",
   "execution_count": null,
   "metadata": {},
   "outputs": [],
   "source": [
    "# custom_data = {\"kappa\":2.14,\"etath\":0.41}\n",
    "sens_plots=InteractivePlot(uq_data,copula,num_intervals=20)#custom_data_point=custom_data)\n",
    "sens_plots.create_layout(significant_conv_vars)"
   ]
  },
  {
   "cell_type": "code",
   "execution_count": null,
   "metadata": {},
   "outputs": [],
   "source": [
    "custom_data={\"kappa\":1.90,\"etath\":0.38}\n",
    "itv_plots=InteractivePlot(uq_data,itv_copula,num_intervals=20,custom_data_point=custom_data)\n",
    "itv_plots.create_layout(itv_vars,plot_graph=False)"
   ]
  }
 ],
 "metadata": {
  "kernelspec": {
   "display_name": "env",
   "language": "python",
   "name": "python3"
  },
  "language_info": {
   "codemirror_mode": {
    "name": "ipython",
    "version": 3
   },
   "file_extension": ".py",
   "mimetype": "text/x-python",
   "name": "python",
   "nbconvert_exporter": "python",
   "pygments_lexer": "ipython3",
   "version": "3.10.12"
  },
  "orig_nbformat": 4
 },
 "nbformat": 4,
 "nbformat_minor": 2
}
