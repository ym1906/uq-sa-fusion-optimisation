{
 "cells": [
  {
   "attachments": {},
   "cell_type": "markdown",
   "metadata": {},
   "source": [
    "# Analysis of UQ runs\n",
    "These notebooks will be used to plot data and data analysis for UQ runs for SOFE 2023.\n"
   ]
  },
  {
   "attachments": {},
   "cell_type": "markdown",
   "metadata": {},
   "source": [
    "## Run information\n",
    "\n",
    "- baseline 2018\n",
    "- pnetel is 400.\n",
    "- Fixed rmajor to 9.0, the average of a previous uq run.\n",
    "- Maximise Net Electric\n",
    "- pheat turned on\n",
    "- UQ bounds ~10%"
   ]
  },
  {
   "attachments": {},
   "cell_type": "markdown",
   "metadata": {},
   "source": [
    "## Import the Uncertainty Data and create object"
   ]
  },
  {
   "cell_type": "code",
   "execution_count": 1,
   "metadata": {},
   "outputs": [],
   "source": [
    "%load_ext autoreload\n",
    "%aimport process\n",
    "%autoreload 1\n",
    "import numpy as np\n",
    "from pathlib import Path\n",
    "from process.uncertainties.uq_analysis import UncertaintyData\n",
    "\n",
    "# proj_dir = str(Path.cwd())+\"/\"\n",
    "proj_dir = \"/home/graeme/data/uq_run_data/total_runs_2/uq_run_05p\"\n",
    "figure_of_merit = \"powfmw\"\n",
    "uq_data = UncertaintyData(proj_dir, figure_of_merit)\n"
   ]
  },
  {
   "attachments": {},
   "cell_type": "markdown",
   "metadata": {},
   "source": [
    "## Calculate Sensitivity Indices and Reliability"
   ]
  },
  {
   "cell_type": "code",
   "execution_count": 2,
   "metadata": {},
   "outputs": [
    {
     "name": "stdout",
     "output_type": "stream",
     "text": [
      "                       S1   S1_conf\n",
      "etath            0.940710  0.007863\n",
      "kappa            0.114170  0.039264\n",
      "triang           0.104836  0.029567\n",
      "ralpne           0.034782  0.020670\n",
      "etaech           0.016732  0.018572\n",
      "pinjalw          0.004627  0.012093\n",
      "alstroh          0.000710  0.012200\n",
      "coreradius      -0.000889  0.011990\n",
      "sig_tf_wp_max   -0.000913  0.010980\n",
      "psepbqarmax     -0.001746  0.010320\n",
      "sig_tf_case_max -0.001792  0.011200\n",
      "walalw          -0.003336  0.009269\n",
      " \n",
      "powfmw mean:  1658.19\n",
      " \n",
      "Number of samples:  40861\n",
      "Number of converged runs:  2414\n"
     ]
    }
   ],
   "source": [
    "uq_data.calculate_sensitivity(figure_of_merit)\n",
    "uq_data.calculate_reliability()\n",
    "print(uq_data.sensitivity_df)\n",
    "print(\" \")\n",
    "print(\n",
    "    uq_data.figure_of_merit + \" mean: \",\n",
    "    round(uq_data.converged_df[uq_data.figure_of_merit].mean(),2),\n",
    ")\n",
    "\n",
    "# print(\"rmajor mean: \", round(uq_data.converged_df[\"rmajor\"].mean(),2))\n",
    "print(\" \")\n",
    "print(\"Number of samples: \", len(uq_data.uncertainties_df))\n",
    "print(\n",
    "    \"Number of converged runs: \",\n",
    "    uq_data.number_of_converged_runs,\n",
    ")\n"
   ]
  },
  {
   "cell_type": "code",
   "execution_count": 3,
   "metadata": {},
   "outputs": [
    {
     "ename": "ValueError",
     "evalue": "Cannot take a larger sample than population when 'replace=False'",
     "output_type": "error",
     "traceback": [
      "\u001b[0;31m---------------------------------------------------------------------------\u001b[0m",
      "\u001b[0;31mValueError\u001b[0m                                Traceback (most recent call last)",
      "Cell \u001b[0;32mIn[3], line 1\u001b[0m\n\u001b[0;32m----> 1\u001b[0m uq_data\u001b[39m.\u001b[39;49mplot_copula_plot([\u001b[39m\"\u001b[39;49m\u001b[39mkappa\u001b[39;49m\u001b[39m\"\u001b[39;49m,\u001b[39m\"\u001b[39;49m\u001b[39msqsumsq\u001b[39;49m\u001b[39m\"\u001b[39;49m])\n",
      "File \u001b[0;32m~/process-gh/process/env/lib/python3.10/site-packages/process/uncertainties/uq_analysis.py:831\u001b[0m, in \u001b[0;36mUncertaintyData.plot_copula_plot\u001b[0;34m(self, variables)\u001b[0m\n\u001b[1;32m    829\u001b[0m \u001b[39m\u001b[39m\u001b[39m\"\"\"Plot some copulas of sampled data for insepction\"\"\"\u001b[39;00m\n\u001b[1;32m    830\u001b[0m \u001b[39m# Sample some random data from the dataset. Now we are just looking at converged samples.\u001b[39;00m\n\u001b[0;32m--> 831\u001b[0m input_data \u001b[39m=\u001b[39m \u001b[39mself\u001b[39;49m\u001b[39m.\u001b[39;49mconverged_df[variables]\u001b[39m.\u001b[39;49msample(n\u001b[39m=\u001b[39;49m\u001b[39m3000\u001b[39;49m, random_state\u001b[39m=\u001b[39;49m\u001b[39m1\u001b[39;49m)\n\u001b[1;32m    833\u001b[0m \u001b[39m# Create the copula class, you can select the distributions which are fit to the data inside.\u001b[39;00m\n\u001b[1;32m    834\u001b[0m copula \u001b[39m=\u001b[39m GaussianMultivariate(\n\u001b[1;32m    835\u001b[0m     \u001b[39m# distribution=GaussianKDE\u001b[39;00m\n\u001b[1;32m    836\u001b[0m     \u001b[39m# \"regular\"\u001b[39;00m\n\u001b[1;32m    837\u001b[0m     \u001b[39m# dicopulastribution={\"sqsumsq\": BetaUnivariate, \"etath\": BetaUnivariate}\u001b[39;00m\n\u001b[1;32m    838\u001b[0m )\n",
      "File \u001b[0;32m~/process-gh/process/env/lib/python3.10/site-packages/pandas/core/generic.py:5858\u001b[0m, in \u001b[0;36mNDFrame.sample\u001b[0;34m(self, n, frac, replace, weights, random_state, axis, ignore_index)\u001b[0m\n\u001b[1;32m   5855\u001b[0m \u001b[39mif\u001b[39;00m weights \u001b[39mis\u001b[39;00m \u001b[39mnot\u001b[39;00m \u001b[39mNone\u001b[39;00m:\n\u001b[1;32m   5856\u001b[0m     weights \u001b[39m=\u001b[39m sample\u001b[39m.\u001b[39mpreprocess_weights(\u001b[39mself\u001b[39m, weights, axis)\n\u001b[0;32m-> 5858\u001b[0m sampled_indices \u001b[39m=\u001b[39m sample\u001b[39m.\u001b[39;49msample(obj_len, size, replace, weights, rs)\n\u001b[1;32m   5859\u001b[0m result \u001b[39m=\u001b[39m \u001b[39mself\u001b[39m\u001b[39m.\u001b[39mtake(sampled_indices, axis\u001b[39m=\u001b[39maxis)\n\u001b[1;32m   5861\u001b[0m \u001b[39mif\u001b[39;00m ignore_index:\n",
      "File \u001b[0;32m~/process-gh/process/env/lib/python3.10/site-packages/pandas/core/sample.py:151\u001b[0m, in \u001b[0;36msample\u001b[0;34m(obj_len, size, replace, weights, random_state)\u001b[0m\n\u001b[1;32m    148\u001b[0m     \u001b[39melse\u001b[39;00m:\n\u001b[1;32m    149\u001b[0m         \u001b[39mraise\u001b[39;00m \u001b[39mValueError\u001b[39;00m(\u001b[39m\"\u001b[39m\u001b[39mInvalid weights: weights sum to zero\u001b[39m\u001b[39m\"\u001b[39m)\n\u001b[0;32m--> 151\u001b[0m \u001b[39mreturn\u001b[39;00m random_state\u001b[39m.\u001b[39;49mchoice(obj_len, size\u001b[39m=\u001b[39;49msize, replace\u001b[39m=\u001b[39;49mreplace, p\u001b[39m=\u001b[39;49mweights)\u001b[39m.\u001b[39mastype(\n\u001b[1;32m    152\u001b[0m     np\u001b[39m.\u001b[39mintp, copy\u001b[39m=\u001b[39m\u001b[39mFalse\u001b[39;00m\n\u001b[1;32m    153\u001b[0m )\n",
      "File \u001b[0;32mmtrand.pyx:965\u001b[0m, in \u001b[0;36mnumpy.random.mtrand.RandomState.choice\u001b[0;34m()\u001b[0m\n",
      "\u001b[0;31mValueError\u001b[0m: Cannot take a larger sample than population when 'replace=False'"
     ]
    }
   ],
   "source": [
    "uq_data.plot_copula_plot([\"kappa\",\"sqsumsq\"])"
   ]
  },
  {
   "attachments": {},
   "cell_type": "markdown",
   "metadata": {},
   "source": [
    "## Plot the Sensitivity Index bar chart"
   ]
  },
  {
   "cell_type": "code",
   "execution_count": null,
   "metadata": {},
   "outputs": [],
   "source": [
    "uq_data.parallel_plot()"
   ]
  },
  {
   "attachments": {},
   "cell_type": "markdown",
   "metadata": {},
   "source": [
    "## Plot a study of index convergence"
   ]
  },
  {
   "cell_type": "code",
   "execution_count": null,
   "metadata": {},
   "outputs": [],
   "source": [
    "# uq_data.plot_convergence_study(step_size=50, figure_of_merit=figure_of_merit)"
   ]
  },
  {
   "attachments": {},
   "cell_type": "markdown",
   "metadata": {},
   "source": [
    "## Regional Sensitivity - what causes PROCESS to converge?"
   ]
  },
  {
   "cell_type": "code",
   "execution_count": null,
   "metadata": {},
   "outputs": [],
   "source": [
    "uq_data.regional_sensitivity_analysis()\n",
    "uq_data.plot_sumsq_sensitivity()\n"
   ]
  },
  {
   "cell_type": "code",
   "execution_count": null,
   "metadata": {},
   "outputs": [],
   "source": [
    "# uq_data.hdmr_analysis()"
   ]
  },
  {
   "attachments": {},
   "cell_type": "markdown",
   "metadata": {},
   "source": [
    "## Plot ECDF and Most Reliabile Values\n",
    "\n",
    "Compare the blue and red plots to see how similar the distributions of the sampled points which converge (blue) and don't converge (red).\n",
    "\n",
    "Orange plots the convergence rate for a given bin of sampled points."
   ]
  },
  {
   "cell_type": "code",
   "execution_count": null,
   "metadata": {},
   "outputs": [],
   "source": [
    "uq_data.ecdf_plot(\"kappa\")\n",
    "uq_data.ecdf_plot(\"etath\")\n",
    "uq_data.ecdf_plot(\"triang\")\n",
    "uq_data.ecdf_plot(\"ralpne\")\n",
    "uq_data.ecdf_plot(\"walalw\")\n",
    "uq_data.ecdf_plot(\"powfmw\")\n",
    "uq_data.ecdf_plot(\"wallmw\")"
   ]
  },
  {
   "attachments": {},
   "cell_type": "markdown",
   "metadata": {},
   "source": [
    "## Plot the Figure of Merit with Significant Input Parameters"
   ]
  },
  {
   "cell_type": "code",
   "execution_count": null,
   "metadata": {},
   "outputs": [],
   "source": [
    "# vtp=uq_data.find_significant_parameters().values\n",
    "# #vtp=uq_data.find_influential_conv_parameters().values\n",
    "# # vtp = np.append(vtp,\"walalw\")\n",
    "# #vtp = [ \"bt\", \"beta\", \"dene\", \"tfcth\", \"wallmw\", \"ohcth\", \"bigq\", \"bore\", \"betalim\", \"coheof\", \"cohbop\", \"gapoh\", \"fvsbrnni\", \"itvar019\", \"itvar020\", \"jwptf\", \"vtfskv\", \"vdalw\", \"tdmptf\", \"thkcas\", \"thwcndut\", \"fcutfsu\", \"cpttf\", \"gapds\", \"plhthresh\", \"tmargtf\", \"tmargoh\", \"oh_steel_frac\"]\n",
    "# #uq_data.sampled_vars_to_plot = vtp\n",
    "# uq_data.configure_data_for_plotting()\n",
    "# uq_data.plot_scatter_plot(plot_unconverged=False\n",
    "                        #   )"
   ]
  }
 ],
 "metadata": {
  "kernelspec": {
   "display_name": "env",
   "language": "python",
   "name": "python3"
  },
  "language_info": {
   "codemirror_mode": {
    "name": "ipython",
    "version": 3
   },
   "file_extension": ".py",
   "mimetype": "text/x-python",
   "name": "python",
   "nbconvert_exporter": "python",
   "pygments_lexer": "ipython3",
   "version": "3.10.12"
  },
  "orig_nbformat": 4
 },
 "nbformat": 4,
 "nbformat_minor": 2
}
